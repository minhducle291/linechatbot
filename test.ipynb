{
 "cells": [
  {
   "cell_type": "code",
   "execution_count": 1,
   "id": "cc68e279",
   "metadata": {},
   "outputs": [],
   "source": [
    "import pandas as pd"
   ]
  },
  {
   "cell_type": "code",
   "execution_count": null,
   "id": "ae26e4b7",
   "metadata": {},
   "outputs": [
    {
     "data": {
      "text/plain": [
       "'Siêu thị 7300 theo dữ liệu 1 tuần gần nhất - Nhập: 426, Bán: 410.4, Tỉ lệ NG/Nhập: 44%, Huỷ và KK: 11.0, Lợi nhuận: 11974404'"
      ]
     },
     "execution_count": 26,
     "metadata": {},
     "output_type": "execute_result"
    }
   ],
   "source": [
    "def data_thuysan(store_keyword):\n",
    "    try:\n",
    "        # Đọc file inventory.csv\n",
    "        df = pd.read_csv('data_thuysan.csv')\n",
    "        df_kq = df[df['Mã siêu thị'] == store_keyword]\n",
    "        sl_nhap = df_kq['Nhập'].sum()\n",
    "        sl_ban = df_kq['Bán'].sum()\n",
    "        rate_NG_nhap = df_kq['Tỉ lệ NG/Nhập'].sum()\n",
    "        sl_huy_kk = df_kq['Huỷ và KK'].sum()\n",
    "        loi_nhuan = df_kq['Lợi nhuận'].sum()\n",
    "        return f'Nhóm thuỷ sản, Siêu thị {store_keyword} theo dữ liệu 1 tuần gần nhất - Nhập: {sl_nhap}, Bán: {sl_ban}, Tỉ lệ NG/Nhập: {rate_NG_nhap}, Huỷ và KK: {sl_huy_kk}, Lợi nhuận: {loi_nhuan}'\n",
    "    except FileNotFoundError:\n",
    "        print(\"File 'data_thuysan.csv' not found. Please ensure the file is in the correct directory.\")\n",
    "        return None\n",
    "    \n",
    "data_thuysan(store_keyword=7300)"
   ]
  },
  {
   "cell_type": "code",
   "execution_count": 1,
   "id": "f12f8fcf",
   "metadata": {},
   "outputs": [
    {
     "name": "stdout",
     "output_type": "stream",
     "text": [
      "[Nhóm thuỷ sản] Siêu thị 7300 theo dữ liệu 1 tuần gần nhất:\n",
      "- Nhập: 426\n",
      "- Bán: 410\n",
      "- Tỉ lệ NG/Nhập: 44%\n",
      "- Huỷ và KK: 11\n",
      "- Lợi nhuận: 11,974,404\n"
     ]
    }
   ],
   "source": [
    "import pandas as pd\n",
    "\n",
    "def data_thuysan(store_keyword):\n",
    "    try:\n",
    "        # Đọc file inventory.csv\n",
    "        df = pd.read_csv('data_thuysan.csv')\n",
    "        df_kq = df[df['Mã siêu thị'] == store_keyword]\n",
    "        \n",
    "        # Check if df_kq is empty\n",
    "        if df_kq.empty:\n",
    "            return f\"Không có dữ liệu cho siêu thị {store_keyword} trong file 'data_thuysan.csv'.\"\n",
    "        \n",
    "        # Calculate metrics\n",
    "        sl_nhap = int(df_kq['Nhập'].sum())  # Convert to integer to remove decimals\n",
    "        sl_ban = int(df_kq['Bán'].sum())    # Convert to integer to remove decimals\n",
    "        \n",
    "        # Handle 'Tỉ lệ NG/Nhập' (e.g., \"44%\" → 44)\n",
    "        rate_NG_nhap = df_kq['Tỉ lệ NG/Nhập'].str.rstrip('%').astype(float).mean()  # Remove % and convert to float\n",
    "        rate_NG_nhap = round(rate_NG_nhap)  # Round to no decimals\n",
    "        \n",
    "        sl_huy_kk = int(df_kq['Huỷ và KK'].sum())  # Convert to integer to remove decimals\n",
    "        loi_nhuan = int(df_kq['Lợi nhuận'].sum())  # Convert to integer to remove decimals\n",
    "        num_rows = len(df_kq)  # Count number of rows\n",
    "        \n",
    "        # Format profit with thousand separators\n",
    "        loi_nhuan_formatted = \"{:,}\".format(loi_nhuan)\n",
    "        \n",
    "        # Return formatted string with row count\n",
    "        return (f'[Nhóm thuỷ sản] Siêu thị {store_keyword} theo dữ liệu 1 tuần gần nhất:\\n'\n",
    "                f'- Nhập: {sl_nhap}\\n'\n",
    "                f'- Bán: {sl_ban}\\n'\n",
    "                f'- Tỉ lệ NG/Nhập: {rate_NG_nhap}%\\n'\n",
    "                f'- Huỷ và KK: {sl_huy_kk}\\n'\n",
    "                f'- Lợi nhuận: {loi_nhuan_formatted}')\n",
    "    \n",
    "    except FileNotFoundError:\n",
    "        print(\"File 'data_thuysan.csv' not found. Please ensure the file is in the correct directory.\")\n",
    "        return None\n",
    "\n",
    "# Test the function\n",
    "print(data_thuysan(store_keyword=7300))"
   ]
  }
 ],
 "metadata": {
  "kernelspec": {
   "display_name": "Python 3",
   "language": "python",
   "name": "python3"
  },
  "language_info": {
   "codemirror_mode": {
    "name": "ipython",
    "version": 3
   },
   "file_extension": ".py",
   "mimetype": "text/x-python",
   "name": "python",
   "nbconvert_exporter": "python",
   "pygments_lexer": "ipython3",
   "version": "3.11.6"
  }
 },
 "nbformat": 4,
 "nbformat_minor": 5
}
