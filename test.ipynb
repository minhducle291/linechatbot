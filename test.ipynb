{
 "cells": [
  {
   "cell_type": "code",
   "execution_count": 1,
   "id": "cc68e279",
   "metadata": {},
   "outputs": [],
   "source": [
    "import pandas as pd"
   ]
  },
  {
   "cell_type": "code",
   "execution_count": null,
   "id": "ae26e4b7",
   "metadata": {},
   "outputs": [
    {
     "data": {
      "text/plain": [
       "'Siêu thị 7300 theo dữ liệu 1 tuần gần nhất - Nhập: 426, Bán: 410.4, Tỉ lệ NG/Nhập: 44%, Huỷ và KK: 11.0, Lợi nhuận: 11974404'"
      ]
     },
     "execution_count": 26,
     "metadata": {},
     "output_type": "execute_result"
    }
   ],
   "source": [
    "def data_thuysan(store_keyword):\n",
    "    try:\n",
    "        # Đọc file inventory.csv\n",
    "        df = pd.read_csv('data_thuysan.csv')\n",
    "        df_kq = df[df['Mã siêu thị'] == store_keyword]\n",
    "        sl_nhap = df_kq['Nhập'].sum()\n",
    "        sl_ban = df_kq['Bán'].sum()\n",
    "        rate_NG_nhap = df_kq['Tỉ lệ NG/Nhập'].sum()\n",
    "        sl_huy_kk = df_kq['Huỷ và KK'].sum()\n",
    "        loi_nhuan = df_kq['Lợi nhuận'].sum()\n",
    "        return f'Nhóm thuỷ sản, Siêu thị {store_keyword} theo dữ liệu 1 tuần gần nhất - Nhập: {sl_nhap}, Bán: {sl_ban}, Tỉ lệ NG/Nhập: {rate_NG_nhap}, Huỷ và KK: {sl_huy_kk}, Lợi nhuận: {loi_nhuan}'\n",
    "    except FileNotFoundError:\n",
    "        print(\"File 'data_thuysan.csv' not found. Please ensure the file is in the correct directory.\")\n",
    "        return None\n",
    "    \n",
    "data_thuysan(store_keyword=7300)"
   ]
  },
  {
   "cell_type": "code",
   "execution_count": 22,
   "id": "f12f8fcf",
   "metadata": {},
   "outputs": [
    {
     "data": {
      "text/plain": [
       "Index(['Mã siêu thị', 'Nhập', 'Bán', 'Tỉ lệ NG/Nhập', 'Huỷ và KK',\n",
       "       'Lợi nhuận'],\n",
       "      dtype='object')"
      ]
     },
     "execution_count": 22,
     "metadata": {},
     "output_type": "execute_result"
    }
   ],
   "source": [
    "df = pd.read_csv('data_thuysan.csv')\n",
    "df.columns"
   ]
  }
 ],
 "metadata": {
  "kernelspec": {
   "display_name": "Python 3",
   "language": "python",
   "name": "python3"
  },
  "language_info": {
   "codemirror_mode": {
    "name": "ipython",
    "version": 3
   },
   "file_extension": ".py",
   "mimetype": "text/x-python",
   "name": "python",
   "nbconvert_exporter": "python",
   "pygments_lexer": "ipython3",
   "version": "3.11.6"
  }
 },
 "nbformat": 4,
 "nbformat_minor": 5
}
